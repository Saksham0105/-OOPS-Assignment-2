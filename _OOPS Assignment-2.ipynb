{
 "cells": [
  {
   "cell_type": "markdown",
   "id": "84567c58",
   "metadata": {},
   "source": [
    "## Q1. What is Abstraction in OOps? Explain with an example."
   ]
  },
  {
   "cell_type": "markdown",
   "id": "fff2d86a",
   "metadata": {},
   "source": [
    "Ans :- "
   ]
  },
  {
   "cell_type": "markdown",
   "id": "e5c3cace",
   "metadata": {},
   "source": [
    "Abstraction allows you to define a clear interface for interacting with an object while keeping the internal implementation hidden. This makes the code more manageable, maintainable, and easier to understand."
   ]
  },
  {
   "cell_type": "code",
   "execution_count": 81,
   "id": "7de9b26e",
   "metadata": {},
   "outputs": [],
   "source": [
    "import abc\n",
    "class pwskills:\n",
    "    @abc.abstractmethod\n",
    "    def student_details(self):\n",
    "        pass\n",
    "    @abc.abstractmethod\n",
    "    def student_assignment(self):\n",
    "        pass\n",
    "    @abc.abstractmethod\n",
    "    def student_marks(self):\n",
    "        pass"
   ]
  },
  {
   "cell_type": "code",
   "execution_count": 82,
   "id": "4f34bfa0",
   "metadata": {},
   "outputs": [],
   "source": [
    "class student_details(pwskills):\n",
    "    def student_details(self):\n",
    "        return \"this is a method for student details\"\n",
    "    def student_assignment(self):\n",
    "        return \" this is the method regular assignment for particular students\""
   ]
  },
  {
   "cell_type": "code",
   "execution_count": 83,
   "id": "e0d951d5",
   "metadata": {},
   "outputs": [],
   "source": [
    "class data_science_masters(pwskills):\n",
    "    def student_details(self):\n",
    "        return \"this method for student details of data science masters \"\n",
    "    def student_assignment(self):\n",
    "        return \"this method is for assignments of data science students \""
   ]
  },
  {
   "cell_type": "code",
   "execution_count": 84,
   "id": "5b0baff4",
   "metadata": {},
   "outputs": [],
   "source": [
    "obj_dsm = data_science_masters()"
   ]
  },
  {
   "cell_type": "code",
   "execution_count": 85,
   "id": "56702033",
   "metadata": {},
   "outputs": [],
   "source": [
    "obj_sd = student_details()"
   ]
  },
  {
   "cell_type": "code",
   "execution_count": 86,
   "id": "cc7b43a5",
   "metadata": {},
   "outputs": [
    {
     "data": {
      "text/plain": [
       "'this method is for assignments of data science students '"
      ]
     },
     "execution_count": 86,
     "metadata": {},
     "output_type": "execute_result"
    }
   ],
   "source": [
    "obj_dsm.student_assignment()"
   ]
  },
  {
   "cell_type": "code",
   "execution_count": 87,
   "id": "35efd39d",
   "metadata": {},
   "outputs": [
    {
     "data": {
      "text/plain": [
       "'this method for student details of data science masters '"
      ]
     },
     "execution_count": 87,
     "metadata": {},
     "output_type": "execute_result"
    }
   ],
   "source": [
    "obj_dsm.student_details()"
   ]
  },
  {
   "cell_type": "code",
   "execution_count": 88,
   "id": "b460f2b5",
   "metadata": {},
   "outputs": [
    {
     "data": {
      "text/plain": [
       "' this is the method regular assignment for particular students'"
      ]
     },
     "execution_count": 88,
     "metadata": {},
     "output_type": "execute_result"
    }
   ],
   "source": [
    "obj_sd.student_assignment()"
   ]
  },
  {
   "cell_type": "code",
   "execution_count": 89,
   "id": "f937b6f0",
   "metadata": {},
   "outputs": [
    {
     "data": {
      "text/plain": [
       "'this is a method for student details'"
      ]
     },
     "execution_count": 89,
     "metadata": {},
     "output_type": "execute_result"
    }
   ],
   "source": [
    "obj_sd.student_details()"
   ]
  },
  {
   "cell_type": "markdown",
   "id": "f7451295",
   "metadata": {},
   "source": [
    "## Q2. Differentiate between Abstraction and Encapsulation. Explain with an example."
   ]
  },
  {
   "cell_type": "markdown",
   "id": "057ec1c8",
   "metadata": {},
   "source": [
    "Ans : -"
   ]
  },
  {
   "cell_type": "markdown",
   "id": "3935c3c1",
   "metadata": {},
   "source": [
    "* Abstraction : -"
   ]
  },
  {
   "cell_type": "markdown",
   "id": "467b2110",
   "metadata": {},
   "source": [
    "Abstraction is the process of simplifying complex reality by modeling classes and objects that represent real-world entities in a more manageable way. It involves highlighting only the relevant attributes and behaviors of an object while hiding unnecessary details. In other words, abstraction allows you to focus on what an object does rather than how it does it."
   ]
  },
  {
   "cell_type": "markdown",
   "id": "7d1669f3",
   "metadata": {},
   "source": [
    " * Abstraction focuses on presenting the essential features and behaviors of an object while hiding unnecessary details."
   ]
  },
  {
   "cell_type": "markdown",
   "id": "5d19b590",
   "metadata": {},
   "source": [
    "Example of Abstraction : -"
   ]
  },
  {
   "cell_type": "code",
   "execution_count": 90,
   "id": "04bc111b",
   "metadata": {},
   "outputs": [],
   "source": [
    "from abc import ABC, abstractmethod\n",
    "\n",
    "class Vehicle(ABC):\n",
    "    def __init__(self, make, model):\n",
    "        self._make = make\n",
    "        self._model = model\n",
    "    \n",
    "    @abstractmethod\n",
    "    def start(self):\n",
    "        pass\n",
    "    \n",
    "    @abstractmethod\n",
    "    def stop(self):\n",
    "        pass"
   ]
  },
  {
   "cell_type": "code",
   "execution_count": 91,
   "id": "332f5218",
   "metadata": {},
   "outputs": [],
   "source": [
    "class Car(Vehicle):\n",
    "    def start(self):\n",
    "        return \"{} {} car is starting.\".format(self._make , self._model)\n",
    "    \n",
    "    def stop(self):\n",
    "        return \"{} {} car is stopping.\".format(self._make , self._model)"
   ]
  },
  {
   "cell_type": "code",
   "execution_count": 92,
   "id": "58136d22",
   "metadata": {},
   "outputs": [],
   "source": [
    "class Motorcycle(Vehicle):\n",
    "    def start(self):\n",
    "        return \"{} {} motorcycle is starting.\".format(self._make , self._model)\n",
    "    \n",
    "    def stop(self):\n",
    "        return \"{} {} motorcycle is stopping.\".format(self._make , self._model )"
   ]
  },
  {
   "cell_type": "code",
   "execution_count": 93,
   "id": "f603d15a",
   "metadata": {},
   "outputs": [],
   "source": [
    "car = Car(\"Toyota\", \"Innova\")"
   ]
  },
  {
   "cell_type": "code",
   "execution_count": 94,
   "id": "9ac45493",
   "metadata": {},
   "outputs": [],
   "source": [
    "motorcycle = Motorcycle(\"Kawasaki Ninja\", \"Sportster\")"
   ]
  },
  {
   "cell_type": "code",
   "execution_count": 95,
   "id": "fc57bc47",
   "metadata": {},
   "outputs": [
    {
     "data": {
      "text/plain": [
       "'Toyota Innova car is starting.'"
      ]
     },
     "execution_count": 95,
     "metadata": {},
     "output_type": "execute_result"
    }
   ],
   "source": [
    "car.start()"
   ]
  },
  {
   "cell_type": "code",
   "execution_count": 96,
   "id": "712c3a37",
   "metadata": {},
   "outputs": [
    {
     "data": {
      "text/plain": [
       "'Toyota Innova car is stopping.'"
      ]
     },
     "execution_count": 96,
     "metadata": {},
     "output_type": "execute_result"
    }
   ],
   "source": [
    "car.stop()"
   ]
  },
  {
   "cell_type": "code",
   "execution_count": 97,
   "id": "a8679905",
   "metadata": {},
   "outputs": [
    {
     "data": {
      "text/plain": [
       "'Kawasaki Ninja Sportster motorcycle is starting.'"
      ]
     },
     "execution_count": 97,
     "metadata": {},
     "output_type": "execute_result"
    }
   ],
   "source": [
    "motorcycle.start()"
   ]
  },
  {
   "cell_type": "code",
   "execution_count": 98,
   "id": "51612d65",
   "metadata": {},
   "outputs": [
    {
     "data": {
      "text/plain": [
       "'Kawasaki Ninja Sportster motorcycle is stopping.'"
      ]
     },
     "execution_count": 98,
     "metadata": {},
     "output_type": "execute_result"
    }
   ],
   "source": [
    "motorcycle.stop()"
   ]
  },
  {
   "cell_type": "markdown",
   "id": "1552e651",
   "metadata": {},
   "source": [
    "* Encapsulation"
   ]
  },
  {
   "cell_type": "markdown",
   "id": "979a2404",
   "metadata": {},
   "source": [
    "Encapsulation is the practice of bundling data (attributes) and methods (functions) that operate on the data into a single unit called a class. It restricts direct access to the internal state of an object and enforces access through well-defined methods. Encapsulation helps in data hiding, preventing unauthorized access or modification of an object's internal state."
   ]
  },
  {
   "cell_type": "markdown",
   "id": "3a653adf",
   "metadata": {},
   "source": [
    "* Encapsulation focuses on bundling data and methods that operate on the data into a single unit, enforcing controlled access."
   ]
  },
  {
   "cell_type": "markdown",
   "id": "733e9de3",
   "metadata": {},
   "source": [
    "Example of Encapsulation :-"
   ]
  },
  {
   "cell_type": "code",
   "execution_count": 99,
   "id": "69ad29ec",
   "metadata": {},
   "outputs": [],
   "source": [
    "class bank_account:\n",
    "    def __init__(self,balance):\n",
    "        self.__balance = balance          # Encapsulated attribute\n",
    "    def deposite(self,amount):\n",
    "        self.__balance = self.__balance + amount                         # Encapsulated attribute\n",
    "        return \"Deposite Successful\"\n",
    "    def withdrawal(self,amount):\n",
    "        if self.__balance >= amount:                                        # Encapsulated attribute\n",
    "            self.__balance = self.__balance - amount\n",
    "            return \"Withdrawal Successful\"\n",
    "        else:\n",
    "            return \"Insufficient Balance\"\n",
    "    def get_balance(self):\n",
    "        return self.__balance"
   ]
  },
  {
   "cell_type": "code",
   "execution_count": 100,
   "id": "6ae3c6b4",
   "metadata": {},
   "outputs": [],
   "source": [
    "Saksham = bank_account(1000)"
   ]
  },
  {
   "cell_type": "code",
   "execution_count": 101,
   "id": "45259fc3",
   "metadata": {},
   "outputs": [
    {
     "data": {
      "text/plain": [
       "'Deposite Successful'"
      ]
     },
     "execution_count": 101,
     "metadata": {},
     "output_type": "execute_result"
    }
   ],
   "source": [
    "Saksham.deposite(1000)"
   ]
  },
  {
   "cell_type": "code",
   "execution_count": 102,
   "id": "dbc2b000",
   "metadata": {},
   "outputs": [
    {
     "data": {
      "text/plain": [
       "2000"
      ]
     },
     "execution_count": 102,
     "metadata": {},
     "output_type": "execute_result"
    }
   ],
   "source": [
    "Saksham.get_balance()"
   ]
  },
  {
   "cell_type": "code",
   "execution_count": 103,
   "id": "29589ab3",
   "metadata": {},
   "outputs": [
    {
     "data": {
      "text/plain": [
       "'Withdrawal Successful'"
      ]
     },
     "execution_count": 103,
     "metadata": {},
     "output_type": "execute_result"
    }
   ],
   "source": [
    "Saksham.withdrawal(500)"
   ]
  },
  {
   "cell_type": "code",
   "execution_count": 104,
   "id": "0258202e",
   "metadata": {},
   "outputs": [
    {
     "data": {
      "text/plain": [
       "1500"
      ]
     },
     "execution_count": 104,
     "metadata": {},
     "output_type": "execute_result"
    }
   ],
   "source": [
    "Saksham.get_balance()"
   ]
  },
  {
   "cell_type": "code",
   "execution_count": 105,
   "id": "a927a516",
   "metadata": {},
   "outputs": [
    {
     "data": {
      "text/plain": [
       "'Insufficient Balance'"
      ]
     },
     "execution_count": 105,
     "metadata": {},
     "output_type": "execute_result"
    }
   ],
   "source": [
    "Saksham.withdrawal(3000)"
   ]
  },
  {
   "cell_type": "markdown",
   "id": "fca72fc0",
   "metadata": {},
   "source": [
    "## Q3. What is abc module in python? Why is it used?"
   ]
  },
  {
   "cell_type": "markdown",
   "id": "003670ba",
   "metadata": {},
   "source": [
    "Ans :-"
   ]
  },
  {
   "cell_type": "markdown",
   "id": "41b5264e",
   "metadata": {},
   "source": [
    "The 'abc' module in Python stands for \"Abstract Base Classes.\" It provides a way to define abstract classes and interfaces in Python. Abstract base classes are classes that cannot be instantiated on their own but are meant to be subclassed by other classes. They serve as a blueprint for other classes and establish a common interface that their subclasses must adhere to."
   ]
  },
  {
   "cell_type": "markdown",
   "id": "4f852607",
   "metadata": {},
   "source": [
    "The 'abc' module is used to achieve the following objectives:"
   ]
  },
  {
   "cell_type": "markdown",
   "id": "82d712b6",
   "metadata": {},
   "source": [
    "* Define Abstract Base Classes :- "
   ]
  },
  {
   "cell_type": "markdown",
   "id": "89bef4f9",
   "metadata": {},
   "source": [
    "You can use the 'ABC' class from the 'abc' module as a metaclass to create abstract base classes. \"Abstract base classes\" define a set of methods that must be implemented by their subclasses. Abstract methods in the base class are marked with the '@abstractmethod' decorator, indicating that they must be overridden by subclasses."
   ]
  },
  {
   "cell_type": "markdown",
   "id": "e39dff82",
   "metadata": {},
   "source": [
    "* Enforce Method Implementation :-"
   ]
  },
  {
   "cell_type": "markdown",
   "id": "88732f6a",
   "metadata": {},
   "source": [
    " Abstract base classes enforce the implementation of certain methods in derived classes. This ensures that all subclasses have a consistent interface and behavior. Attempting to instantiate a class that doesn't implement all abstract methods will result in an error."
   ]
  },
  {
   "cell_type": "markdown",
   "id": "6d2aea3e",
   "metadata": {},
   "source": [
    "* Polymorphism and Code Reusability :-"
   ]
  },
  {
   "cell_type": "markdown",
   "id": "98cd79f9",
   "metadata": {},
   "source": [
    "Abstract base classes provide a common interface that can be shared among multiple subclasses. This promotes polymorphism, where different classes can be treated uniformly if they adhere to the same abstract interface."
   ]
  },
  {
   "cell_type": "markdown",
   "id": "f926c9f8",
   "metadata": {},
   "source": [
    "## Q4. How can we achieve data abstraction?"
   ]
  },
  {
   "cell_type": "markdown",
   "id": "be9ba958",
   "metadata": {},
   "source": [
    "Ans :-"
   ]
  },
  {
   "cell_type": "markdown",
   "id": "1a33a9d7",
   "metadata": {},
   "source": [
    "Data abstraction is achieved in Python through the concept of encapsulation. Encapsulation involves bundling the data (attributes) and the methods (functions) that operate on the data into a single unit, which is the class. By using encapsulation, you can hide the internal implementation details of an object and expose only the necessary interfaces for interacting with it."
   ]
  },
  {
   "cell_type": "markdown",
   "id": "62dcf970",
   "metadata": {},
   "source": [
    "Here's how you can achieve data abstraction:"
   ]
  },
  {
   "cell_type": "markdown",
   "id": "ce97148b",
   "metadata": {},
   "source": [
    "* Create a Class : -"
   ]
  },
  {
   "cell_type": "markdown",
   "id": "b0772b39",
   "metadata": {},
   "source": [
    " Define a class that represents the abstract concept you want to model. This class should contain attributes and methods that define the essential behavior of the object."
   ]
  },
  {
   "cell_type": "markdown",
   "id": "2e0a4b83",
   "metadata": {},
   "source": [
    "* Access Control :- "
   ]
  },
  {
   "cell_type": "markdown",
   "id": "b62ff1f8",
   "metadata": {},
   "source": [
    "Use naming conventions to indicate the intended visibility of class members. Private attributes and methods are typically indicated by names starting with an underscore (' _ '). Although Python does not enforce strict access control, this naming convention indicates to other developers that these members are intended for internal use."
   ]
  },
  {
   "cell_type": "markdown",
   "id": "968a33d6",
   "metadata": {},
   "source": [
    "* Accessor and Mutator Methods :- "
   ]
  },
  {
   "cell_type": "markdown",
   "id": "c536d2e9",
   "metadata": {},
   "source": [
    "Provide methods to access (getters) and modify (setters) the encapsulated data. This allows you to control how data is read and modified, enabling data validation and controlled interactions."
   ]
  },
  {
   "cell_type": "markdown",
   "id": "c32aafad",
   "metadata": {},
   "source": [
    "* Private Attributes :-  "
   ]
  },
  {
   "cell_type": "markdown",
   "id": "c1d3f68d",
   "metadata": {},
   "source": [
    "Although Python does not have true private attributes, you can use the  ' _ '  naming convention to indicate that an attribute is private and should not be accessed directly from outside the class."
   ]
  },
  {
   "cell_type": "code",
   "execution_count": 107,
   "id": "9ac659da",
   "metadata": {},
   "outputs": [],
   "source": [
    "class Student:\n",
    "    def __init__(self, name, age):\n",
    "        self._name = name       # Private attribute\n",
    "        self._age = age         # Private attribute\n",
    "    \n",
    "    def get_name(self):\n",
    "        return self._name\n",
    "    \n",
    "    def set_name(self, name):\n",
    "        self._name = name\n",
    "    \n",
    "    def get_age(self):\n",
    "        return self._age\n",
    "    \n",
    "    def set_age(self, age):\n",
    "        if age >= 0:\n",
    "            self._age = age"
   ]
  },
  {
   "cell_type": "code",
   "execution_count": 112,
   "id": "218d4ca4",
   "metadata": {},
   "outputs": [],
   "source": [
    "student = Student(\"Saksham Jain\", 21)"
   ]
  },
  {
   "cell_type": "code",
   "execution_count": 113,
   "id": "68928f02",
   "metadata": {},
   "outputs": [
    {
     "name": "stdout",
     "output_type": "stream",
     "text": [
      "Initial Name: Saksham Jain\n",
      "Initial Age: 21\n"
     ]
    }
   ],
   "source": [
    "print(\"Initial Name:\", student.get_name())\n",
    "print(\"Initial Age:\", student.get_age())"
   ]
  },
  {
   "cell_type": "code",
   "execution_count": 114,
   "id": "064f30ed",
   "metadata": {},
   "outputs": [],
   "source": [
    "student.set_name(\"Kushagra Jain\")\n",
    "student.set_age(17)"
   ]
  },
  {
   "cell_type": "code",
   "execution_count": 115,
   "id": "fe70963a",
   "metadata": {},
   "outputs": [
    {
     "name": "stdout",
     "output_type": "stream",
     "text": [
      "Updated Name: Kushagra Jain\n",
      "Updated Age: 17\n"
     ]
    }
   ],
   "source": [
    "print(\"Updated Name:\", student.get_name())\n",
    "print(\"Updated Age:\", student.get_age())"
   ]
  },
  {
   "cell_type": "markdown",
   "id": "4d95db80",
   "metadata": {},
   "source": [
    "## Q5. Can we create an instance of an abstract class? Explain your answer."
   ]
  },
  {
   "cell_type": "markdown",
   "id": "a9e78a86",
   "metadata": {},
   "source": [
    "Ans :-"
   ]
  },
  {
   "cell_type": "markdown",
   "id": "7412143b",
   "metadata": {},
   "source": [
    "No, we cannot create an instance of an abstract class in Python. An abstract class is a class that is meant to be subclassed by other classes, and it cannot be instantiated directly. It's designed to serve as a blueprint or template for creating concrete (non-abstract) subclasses that implement its abstract methods."
   ]
  },
  {
   "cell_type": "markdown",
   "id": "8fe6924b",
   "metadata": {},
   "source": [
    "An abstract class may contain one or more abstract methods, which are methods that have no implementation in the abstract class itself. Subclasses that inherit from the abstract class are required to provide implementations for these abstract methods."
   ]
  },
  {
   "cell_type": "markdown",
   "id": "fbc98cb5",
   "metadata": {},
   "source": [
    "Python's abc module provides the ABC class, which you can use as a metaclass to create abstract base classes. The @abstractmethod decorator is used to mark methods as abstract within the abstract base class."
   ]
  }
 ],
 "metadata": {
  "kernelspec": {
   "display_name": "Python 3 (ipykernel)",
   "language": "python",
   "name": "python3"
  },
  "language_info": {
   "codemirror_mode": {
    "name": "ipython",
    "version": 3
   },
   "file_extension": ".py",
   "mimetype": "text/x-python",
   "name": "python",
   "nbconvert_exporter": "python",
   "pygments_lexer": "ipython3",
   "version": "3.11.3"
  }
 },
 "nbformat": 4,
 "nbformat_minor": 5
}
